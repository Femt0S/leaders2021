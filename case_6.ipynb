{
 "cells": [
  {
   "cell_type": "markdown",
   "id": "b9f67e3f",
   "metadata": {},
   "source": [
    "## Импорт библиотек\n",
    "Импортируем необходимые библиотеки:"
   ]
  },
  {
   "cell_type": "code",
   "execution_count": 1,
   "id": "8152c723",
   "metadata": {},
   "outputs": [],
   "source": [
    "import pandas as pd\n",
    "import geopandas as gpd\n",
    "import numpy as np\n",
    "import matplotlib.pyplot as plt"
   ]
  },
  {
   "cell_type": "markdown",
   "id": "aae41ab5",
   "metadata": {},
   "source": [
    "## Загрузим датасеты.\n",
    "\n",
    "### Location\n",
    "**01_Location_July.csv** и **01_CLocation_July.csv** - Сгенерированный датасет о численности населения на территории Москвы и с гранулярностью по районам города Москвы и секторами 500х500 метров.\n",
    "\n",
    "***Характер данных***: Данные об изменении численности населения на территории\n",
    "\n",
    "***Временное разбиение***: календарный месяц\n",
    "\n",
    "***Территориальное разбиение***: Москва, разбитая по административным районам и на сектора 500х500м.\n",
    "\n",
    "***Перечень показателей данных в данных:***\n",
    "- Количество человек, проживающих на территории района/сектора\n",
    "- Количество человек, работающих на территории района/сектора\n",
    "- Количество человек, которые находились на территории района/сектора по будням в дневное время чаще, чем в любых других районах/секторах, в рассматриваемый месяц\n",
    "- Количество человек, проживающих на территории района/сектора и имеющих разъездную работу"
   ]
  },
  {
   "cell_type": "code",
   "execution_count": 2,
   "id": "2198f7ac",
   "metadata": {},
   "outputs": [
    {
     "name": "stdout",
     "output_type": "stream",
     "text": [
      "(10240, 5)\n"
     ]
    },
    {
     "data": {
      "text/html": [
       "<div>\n",
       "<style scoped>\n",
       "    .dataframe tbody tr th:only-of-type {\n",
       "        vertical-align: middle;\n",
       "    }\n",
       "\n",
       "    .dataframe tbody tr th {\n",
       "        vertical-align: top;\n",
       "    }\n",
       "\n",
       "    .dataframe thead th {\n",
       "        text-align: right;\n",
       "    }\n",
       "</style>\n",
       "<table border=\"1\" class=\"dataframe\">\n",
       "  <thead>\n",
       "    <tr style=\"text-align: right;\">\n",
       "      <th></th>\n",
       "      <th>zid</th>\n",
       "      <th>customers_cnt_home</th>\n",
       "      <th>customers_cnt_job</th>\n",
       "      <th>customers_cnt_day</th>\n",
       "      <th>customers_cnt_move</th>\n",
       "    </tr>\n",
       "  </thead>\n",
       "  <tbody>\n",
       "    <tr>\n",
       "      <th>0</th>\n",
       "      <td>32909</td>\n",
       "      <td>4</td>\n",
       "      <td>0</td>\n",
       "      <td>0</td>\n",
       "      <td>0</td>\n",
       "    </tr>\n",
       "    <tr>\n",
       "      <th>1</th>\n",
       "      <td>32910</td>\n",
       "      <td>25</td>\n",
       "      <td>8</td>\n",
       "      <td>26</td>\n",
       "      <td>0</td>\n",
       "    </tr>\n",
       "    <tr>\n",
       "      <th>2</th>\n",
       "      <td>33261</td>\n",
       "      <td>2</td>\n",
       "      <td>0</td>\n",
       "      <td>2</td>\n",
       "      <td>0</td>\n",
       "    </tr>\n",
       "  </tbody>\n",
       "</table>\n",
       "</div>"
      ],
      "text/plain": [
       "     zid  customers_cnt_home  customers_cnt_job  customers_cnt_day  \\\n",
       "0  32909                   4                  0                  0   \n",
       "1  32910                  25                  8                 26   \n",
       "2  33261                   2                  0                  2   \n",
       "\n",
       "   customers_cnt_move  \n",
       "0                   0  \n",
       "1                   0  \n",
       "2                   0  "
      ]
     },
     "execution_count": 2,
     "metadata": {},
     "output_type": "execute_result"
    }
   ],
   "source": [
    "df_cloc = pd.read_csv('./datasets/01_CLocation_July.csv')\n",
    "print(df_cloc.shape)\n",
    "df_cloc.head(3)"
   ]
  },
  {
   "cell_type": "code",
   "execution_count": 3,
   "id": "f13cb08c",
   "metadata": {},
   "outputs": [
    {
     "data": {
      "text/html": [
       "<div>\n",
       "<style scoped>\n",
       "    .dataframe tbody tr th:only-of-type {\n",
       "        vertical-align: middle;\n",
       "    }\n",
       "\n",
       "    .dataframe tbody tr th {\n",
       "        vertical-align: top;\n",
       "    }\n",
       "\n",
       "    .dataframe thead th {\n",
       "        text-align: right;\n",
       "    }\n",
       "</style>\n",
       "<table border=\"1\" class=\"dataframe\">\n",
       "  <thead>\n",
       "    <tr style=\"text-align: right;\">\n",
       "      <th></th>\n",
       "      <th>zid</th>\n",
       "      <th>customers_cnt_home</th>\n",
       "      <th>customers_cnt_job</th>\n",
       "      <th>customers_cnt_day</th>\n",
       "      <th>customers_cnt_move</th>\n",
       "    </tr>\n",
       "  </thead>\n",
       "  <tbody>\n",
       "    <tr>\n",
       "      <th>count</th>\n",
       "      <td>10240.000000</td>\n",
       "      <td>10240.000000</td>\n",
       "      <td>10240.000000</td>\n",
       "      <td>10240.000000</td>\n",
       "      <td>10240.000000</td>\n",
       "    </tr>\n",
       "    <tr>\n",
       "      <th>mean</th>\n",
       "      <td>83354.220801</td>\n",
       "      <td>849.844043</td>\n",
       "      <td>437.173340</td>\n",
       "      <td>746.294727</td>\n",
       "      <td>46.906055</td>\n",
       "    </tr>\n",
       "    <tr>\n",
       "      <th>std</th>\n",
       "      <td>26541.011327</td>\n",
       "      <td>1259.753844</td>\n",
       "      <td>967.704186</td>\n",
       "      <td>1255.423503</td>\n",
       "      <td>72.207831</td>\n",
       "    </tr>\n",
       "    <tr>\n",
       "      <th>min</th>\n",
       "      <td>32909.000000</td>\n",
       "      <td>1.000000</td>\n",
       "      <td>0.000000</td>\n",
       "      <td>0.000000</td>\n",
       "      <td>0.000000</td>\n",
       "    </tr>\n",
       "    <tr>\n",
       "      <th>25%</th>\n",
       "      <td>61420.750000</td>\n",
       "      <td>32.000000</td>\n",
       "      <td>8.000000</td>\n",
       "      <td>27.000000</td>\n",
       "      <td>1.000000</td>\n",
       "    </tr>\n",
       "    <tr>\n",
       "      <th>50%</th>\n",
       "      <td>84247.500000</td>\n",
       "      <td>162.000000</td>\n",
       "      <td>52.000000</td>\n",
       "      <td>132.000000</td>\n",
       "      <td>7.000000</td>\n",
       "    </tr>\n",
       "    <tr>\n",
       "      <th>75%</th>\n",
       "      <td>105738.250000</td>\n",
       "      <td>1268.250000</td>\n",
       "      <td>497.000000</td>\n",
       "      <td>1055.000000</td>\n",
       "      <td>70.000000</td>\n",
       "    </tr>\n",
       "    <tr>\n",
       "      <th>max</th>\n",
       "      <td>139343.000000</td>\n",
       "      <td>8887.000000</td>\n",
       "      <td>14870.000000</td>\n",
       "      <td>15741.000000</td>\n",
       "      <td>441.000000</td>\n",
       "    </tr>\n",
       "  </tbody>\n",
       "</table>\n",
       "</div>"
      ],
      "text/plain": [
       "                 zid  customers_cnt_home  customers_cnt_job  \\\n",
       "count   10240.000000        10240.000000       10240.000000   \n",
       "mean    83354.220801          849.844043         437.173340   \n",
       "std     26541.011327         1259.753844         967.704186   \n",
       "min     32909.000000            1.000000           0.000000   \n",
       "25%     61420.750000           32.000000           8.000000   \n",
       "50%     84247.500000          162.000000          52.000000   \n",
       "75%    105738.250000         1268.250000         497.000000   \n",
       "max    139343.000000         8887.000000       14870.000000   \n",
       "\n",
       "       customers_cnt_day  customers_cnt_move  \n",
       "count       10240.000000        10240.000000  \n",
       "mean          746.294727           46.906055  \n",
       "std          1255.423503           72.207831  \n",
       "min             0.000000            0.000000  \n",
       "25%            27.000000            1.000000  \n",
       "50%           132.000000            7.000000  \n",
       "75%          1055.000000           70.000000  \n",
       "max         15741.000000          441.000000  "
      ]
     },
     "execution_count": 3,
     "metadata": {},
     "output_type": "execute_result"
    }
   ],
   "source": [
    "df_cloc.describe()"
   ]
  },
  {
   "cell_type": "code",
   "execution_count": 4,
   "id": "b2e4a93c",
   "metadata": {},
   "outputs": [
    {
     "name": "stdout",
     "output_type": "stream",
     "text": [
      "(146, 5)\n"
     ]
    },
    {
     "data": {
      "text/html": [
       "<div>\n",
       "<style scoped>\n",
       "    .dataframe tbody tr th:only-of-type {\n",
       "        vertical-align: middle;\n",
       "    }\n",
       "\n",
       "    .dataframe tbody tr th {\n",
       "        vertical-align: top;\n",
       "    }\n",
       "\n",
       "    .dataframe thead th {\n",
       "        text-align: right;\n",
       "    }\n",
       "</style>\n",
       "<table border=\"1\" class=\"dataframe\">\n",
       "  <thead>\n",
       "    <tr style=\"text-align: right;\">\n",
       "      <th></th>\n",
       "      <th>zid</th>\n",
       "      <th>customers_cnt_home</th>\n",
       "      <th>customers_cnt_job</th>\n",
       "      <th>customers_cnt_day</th>\n",
       "      <th>customers_cnt_move</th>\n",
       "    </tr>\n",
       "  </thead>\n",
       "  <tbody>\n",
       "    <tr>\n",
       "      <th>0</th>\n",
       "      <td>1</td>\n",
       "      <td>31723</td>\n",
       "      <td>11029</td>\n",
       "      <td>23944</td>\n",
       "      <td>1411</td>\n",
       "    </tr>\n",
       "    <tr>\n",
       "      <th>1</th>\n",
       "      <td>2</td>\n",
       "      <td>64780</td>\n",
       "      <td>15890</td>\n",
       "      <td>40845</td>\n",
       "      <td>3536</td>\n",
       "    </tr>\n",
       "    <tr>\n",
       "      <th>2</th>\n",
       "      <td>3</td>\n",
       "      <td>69098</td>\n",
       "      <td>39701</td>\n",
       "      <td>63486</td>\n",
       "      <td>4161</td>\n",
       "    </tr>\n",
       "  </tbody>\n",
       "</table>\n",
       "</div>"
      ],
      "text/plain": [
       "   zid  customers_cnt_home  customers_cnt_job  customers_cnt_day  \\\n",
       "0    1               31723              11029              23944   \n",
       "1    2               64780              15890              40845   \n",
       "2    3               69098              39701              63486   \n",
       "\n",
       "   customers_cnt_move  \n",
       "0                1411  \n",
       "1                3536  \n",
       "2                4161  "
      ]
     },
     "execution_count": 4,
     "metadata": {},
     "output_type": "execute_result"
    }
   ],
   "source": [
    "df_loc = pd.read_csv('./datasets/01_Location_July.csv')\n",
    "print(df_loc.shape)\n",
    "df_loc.head(3)"
   ]
  },
  {
   "cell_type": "code",
   "execution_count": 5,
   "id": "c7da094a",
   "metadata": {},
   "outputs": [
    {
     "data": {
      "text/html": [
       "<div>\n",
       "<style scoped>\n",
       "    .dataframe tbody tr th:only-of-type {\n",
       "        vertical-align: middle;\n",
       "    }\n",
       "\n",
       "    .dataframe tbody tr th {\n",
       "        vertical-align: top;\n",
       "    }\n",
       "\n",
       "    .dataframe thead th {\n",
       "        text-align: right;\n",
       "    }\n",
       "</style>\n",
       "<table border=\"1\" class=\"dataframe\">\n",
       "  <thead>\n",
       "    <tr style=\"text-align: right;\">\n",
       "      <th></th>\n",
       "      <th>zid</th>\n",
       "      <th>customers_cnt_home</th>\n",
       "      <th>customers_cnt_job</th>\n",
       "      <th>customers_cnt_day</th>\n",
       "      <th>customers_cnt_move</th>\n",
       "    </tr>\n",
       "  </thead>\n",
       "  <tbody>\n",
       "    <tr>\n",
       "      <th>count</th>\n",
       "      <td>146.000000</td>\n",
       "      <td>146.000000</td>\n",
       "      <td>146.000000</td>\n",
       "      <td>146.000000</td>\n",
       "      <td>146.000000</td>\n",
       "    </tr>\n",
       "    <tr>\n",
       "      <th>mean</th>\n",
       "      <td>87.876712</td>\n",
       "      <td>59646.335616</td>\n",
       "      <td>30699.972603</td>\n",
       "      <td>52397.143836</td>\n",
       "      <td>3291.547945</td>\n",
       "    </tr>\n",
       "    <tr>\n",
       "      <th>std</th>\n",
       "      <td>70.122149</td>\n",
       "      <td>29518.906950</td>\n",
       "      <td>29366.464478</td>\n",
       "      <td>34005.814909</td>\n",
       "      <td>1813.331668</td>\n",
       "    </tr>\n",
       "    <tr>\n",
       "      <th>min</th>\n",
       "      <td>1.000000</td>\n",
       "      <td>6110.000000</td>\n",
       "      <td>1211.000000</td>\n",
       "      <td>3370.000000</td>\n",
       "      <td>347.000000</td>\n",
       "    </tr>\n",
       "    <tr>\n",
       "      <th>25%</th>\n",
       "      <td>37.250000</td>\n",
       "      <td>40128.750000</td>\n",
       "      <td>12508.750000</td>\n",
       "      <td>30895.000000</td>\n",
       "      <td>2024.500000</td>\n",
       "    </tr>\n",
       "    <tr>\n",
       "      <th>50%</th>\n",
       "      <td>73.500000</td>\n",
       "      <td>56641.000000</td>\n",
       "      <td>23154.000000</td>\n",
       "      <td>45121.500000</td>\n",
       "      <td>3205.500000</td>\n",
       "    </tr>\n",
       "    <tr>\n",
       "      <th>75%</th>\n",
       "      <td>109.750000</td>\n",
       "      <td>72915.750000</td>\n",
       "      <td>38872.500000</td>\n",
       "      <td>64568.000000</td>\n",
       "      <td>4157.000000</td>\n",
       "    </tr>\n",
       "    <tr>\n",
       "      <th>max</th>\n",
       "      <td>276.000000</td>\n",
       "      <td>170772.000000</td>\n",
       "      <td>179375.000000</td>\n",
       "      <td>213125.000000</td>\n",
       "      <td>10472.000000</td>\n",
       "    </tr>\n",
       "  </tbody>\n",
       "</table>\n",
       "</div>"
      ],
      "text/plain": [
       "              zid  customers_cnt_home  customers_cnt_job  customers_cnt_day  \\\n",
       "count  146.000000          146.000000         146.000000         146.000000   \n",
       "mean    87.876712        59646.335616       30699.972603       52397.143836   \n",
       "std     70.122149        29518.906950       29366.464478       34005.814909   \n",
       "min      1.000000         6110.000000        1211.000000        3370.000000   \n",
       "25%     37.250000        40128.750000       12508.750000       30895.000000   \n",
       "50%     73.500000        56641.000000       23154.000000       45121.500000   \n",
       "75%    109.750000        72915.750000       38872.500000       64568.000000   \n",
       "max    276.000000       170772.000000      179375.000000      213125.000000   \n",
       "\n",
       "       customers_cnt_move  \n",
       "count          146.000000  \n",
       "mean          3291.547945  \n",
       "std           1813.331668  \n",
       "min            347.000000  \n",
       "25%           2024.500000  \n",
       "50%           3205.500000  \n",
       "75%           4157.000000  \n",
       "max          10472.000000  "
      ]
     },
     "execution_count": 5,
     "metadata": {},
     "output_type": "execute_result"
    }
   ],
   "source": [
    "df_loc.describe()"
   ]
  },
  {
   "cell_type": "markdown",
   "id": "87a75c32",
   "metadata": {},
   "source": [
    "### Matrix_Home_Work\n",
    "\n",
    "**04_Matrix_Home_Work_July**; **04_CMatrix_Home_Work_July.csv** - Сгенерированный датасет о динамике перемещения населения дом-работа на территории Москвы (Матрица корреспонденции дом-работа) и с гранулярностью по районам города Москвы и секторами 500х500 метров.\n",
    "\n",
    "***Характер данных***: Данные Матрица корреспонденции дом-работа\n",
    "\n",
    "***Временное разбиение***: календарный месяц\n",
    "\n",
    "***Территориальное разбиение***: Москва, разбитая по административным районам и на сектора 500х500м.\n",
    "\n",
    "***Перечень показателей данных в данных:***\n",
    "\n",
    "- Количество человек, место проживания которых в отчетном месяце находится в районе/секторе А, а место работы - в районе/секторе В"
   ]
  },
  {
   "cell_type": "code",
   "execution_count": 6,
   "id": "b794fcd5",
   "metadata": {},
   "outputs": [
    {
     "data": {
      "text/html": [
       "<div>\n",
       "<style scoped>\n",
       "    .dataframe tbody tr th:only-of-type {\n",
       "        vertical-align: middle;\n",
       "    }\n",
       "\n",
       "    .dataframe tbody tr th {\n",
       "        vertical-align: top;\n",
       "    }\n",
       "\n",
       "    .dataframe thead th {\n",
       "        text-align: right;\n",
       "    }\n",
       "</style>\n",
       "<table border=\"1\" class=\"dataframe\">\n",
       "  <thead>\n",
       "    <tr style=\"text-align: right;\">\n",
       "      <th></th>\n",
       "      <th>home_zid</th>\n",
       "      <th>work_zid</th>\n",
       "      <th>customers_cnt</th>\n",
       "    </tr>\n",
       "  </thead>\n",
       "  <tbody>\n",
       "    <tr>\n",
       "      <th>count</th>\n",
       "      <td>724443.000000</td>\n",
       "      <td>724443.000000</td>\n",
       "      <td>724443.000000</td>\n",
       "    </tr>\n",
       "    <tr>\n",
       "      <th>mean</th>\n",
       "      <td>102367.038804</td>\n",
       "      <td>104025.091897</td>\n",
       "      <td>14.168672</td>\n",
       "    </tr>\n",
       "    <tr>\n",
       "      <th>std</th>\n",
       "      <td>21472.454803</td>\n",
       "      <td>20157.290571</td>\n",
       "      <td>120.538750</td>\n",
       "    </tr>\n",
       "    <tr>\n",
       "      <th>min</th>\n",
       "      <td>-2.000000</td>\n",
       "      <td>-2.000000</td>\n",
       "      <td>1.000000</td>\n",
       "    </tr>\n",
       "    <tr>\n",
       "      <th>25%</th>\n",
       "      <td>94413.000000</td>\n",
       "      <td>99808.000000</td>\n",
       "      <td>2.000000</td>\n",
       "    </tr>\n",
       "    <tr>\n",
       "      <th>50%</th>\n",
       "      <td>104591.000000</td>\n",
       "      <td>108662.000000</td>\n",
       "      <td>3.000000</td>\n",
       "    </tr>\n",
       "    <tr>\n",
       "      <th>75%</th>\n",
       "      <td>116118.000000</td>\n",
       "      <td>113839.000000</td>\n",
       "      <td>3.000000</td>\n",
       "    </tr>\n",
       "    <tr>\n",
       "      <th>max</th>\n",
       "      <td>139343.000000</td>\n",
       "      <td>139343.000000</td>\n",
       "      <td>6178.000000</td>\n",
       "    </tr>\n",
       "  </tbody>\n",
       "</table>\n",
       "</div>"
      ],
      "text/plain": [
       "            home_zid       work_zid  customers_cnt\n",
       "count  724443.000000  724443.000000  724443.000000\n",
       "mean   102367.038804  104025.091897      14.168672\n",
       "std     21472.454803   20157.290571     120.538750\n",
       "min        -2.000000      -2.000000       1.000000\n",
       "25%     94413.000000   99808.000000       2.000000\n",
       "50%    104591.000000  108662.000000       3.000000\n",
       "75%    116118.000000  113839.000000       3.000000\n",
       "max    139343.000000  139343.000000    6178.000000"
      ]
     },
     "execution_count": 6,
     "metadata": {},
     "output_type": "execute_result"
    }
   ],
   "source": [
    "df_chome_work = pd.read_csv('./datasets/04_CMatrix_Home_Work_July.csv')\n",
    "df_chome_work.describe()"
   ]
  },
  {
   "cell_type": "code",
   "execution_count": 7,
   "id": "f62a55d6",
   "metadata": {},
   "outputs": [
    {
     "data": {
      "text/plain": [
       "<AxesSubplot:>"
      ]
     },
     "execution_count": 7,
     "metadata": {},
     "output_type": "execute_result"
    },
    {
     "data": {
      "image/png": "[encoded data removed]",
      "text/plain": [
       "<Figure size 432x288 with 1 Axes>"
      ]
     },
     "metadata": {
      "needs_background": "light"
     },
     "output_type": "display_data"
    }
   ],
   "source": [
    "df_chome_work['customers_cnt'].plot()"
   ]
  },
  {
   "cell_type": "code",
   "execution_count": 8,
   "id": "6a3f7626",
   "metadata": {},
   "outputs": [
    {
     "data": {
      "text/html": [
       "<div>\n",
       "<style scoped>\n",
       "    .dataframe tbody tr th:only-of-type {\n",
       "        vertical-align: middle;\n",
       "    }\n",
       "\n",
       "    .dataframe tbody tr th {\n",
       "        vertical-align: top;\n",
       "    }\n",
       "\n",
       "    .dataframe thead th {\n",
       "        text-align: right;\n",
       "    }\n",
       "</style>\n",
       "<table border=\"1\" class=\"dataframe\">\n",
       "  <thead>\n",
       "    <tr style=\"text-align: right;\">\n",
       "      <th></th>\n",
       "      <th>home_zid</th>\n",
       "      <th>work_zid</th>\n",
       "      <th>customers_cnt</th>\n",
       "    </tr>\n",
       "  </thead>\n",
       "  <tbody>\n",
       "    <tr>\n",
       "      <th>count</th>\n",
       "      <td>20608.000000</td>\n",
       "      <td>20608.000000</td>\n",
       "      <td>20608.000000</td>\n",
       "    </tr>\n",
       "    <tr>\n",
       "      <th>mean</th>\n",
       "      <td>85.175320</td>\n",
       "      <td>83.041828</td>\n",
       "      <td>498.779988</td>\n",
       "    </tr>\n",
       "    <tr>\n",
       "      <th>std</th>\n",
       "      <td>68.865673</td>\n",
       "      <td>66.775621</td>\n",
       "      <td>3723.609495</td>\n",
       "    </tr>\n",
       "    <tr>\n",
       "      <th>min</th>\n",
       "      <td>-2.000000</td>\n",
       "      <td>-2.000000</td>\n",
       "      <td>0.000000</td>\n",
       "    </tr>\n",
       "    <tr>\n",
       "      <th>25%</th>\n",
       "      <td>35.000000</td>\n",
       "      <td>35.000000</td>\n",
       "      <td>9.000000</td>\n",
       "    </tr>\n",
       "    <tr>\n",
       "      <th>50%</th>\n",
       "      <td>72.000000</td>\n",
       "      <td>70.000000</td>\n",
       "      <td>31.000000</td>\n",
       "    </tr>\n",
       "    <tr>\n",
       "      <th>75%</th>\n",
       "      <td>108.000000</td>\n",
       "      <td>106.000000</td>\n",
       "      <td>106.000000</td>\n",
       "    </tr>\n",
       "    <tr>\n",
       "      <th>max</th>\n",
       "      <td>276.000000</td>\n",
       "      <td>276.000000</td>\n",
       "      <td>113207.000000</td>\n",
       "    </tr>\n",
       "  </tbody>\n",
       "</table>\n",
       "</div>"
      ],
      "text/plain": [
       "           home_zid      work_zid  customers_cnt\n",
       "count  20608.000000  20608.000000   20608.000000\n",
       "mean      85.175320     83.041828     498.779988\n",
       "std       68.865673     66.775621    3723.609495\n",
       "min       -2.000000     -2.000000       0.000000\n",
       "25%       35.000000     35.000000       9.000000\n",
       "50%       72.000000     70.000000      31.000000\n",
       "75%      108.000000    106.000000     106.000000\n",
       "max      276.000000    276.000000  113207.000000"
      ]
     },
     "execution_count": 8,
     "metadata": {},
     "output_type": "execute_result"
    }
   ],
   "source": [
    "df_home_work = pd.read_csv('./datasets/04_Matrix_Home_Work_July.csv')\n",
    "df_home_work.describe()"
   ]
  },
  {
   "cell_type": "code",
   "execution_count": 9,
   "id": "1bdd0504",
   "metadata": {},
   "outputs": [
    {
     "data": {
      "text/plain": [
       "<AxesSubplot:>"
      ]
     },
     "execution_count": 9,
     "metadata": {},
     "output_type": "execute_result"
    },
    {
     "data": {
      "image/png": "[encoded data removed]",
      "text/plain": [
       "<Figure size 432x288 with 1 Axes>"
      ]
     },
     "metadata": {
      "needs_background": "light"
     },
     "output_type": "display_data"
    }
   ],
   "source": [
    "df_home_work['customers_cnt'].plot()"
   ]
  },
  {
   "cell_type": "code",
   "execution_count": 10,
   "id": "a9e3d00e",
   "metadata": {},
   "outputs": [
    {
     "name": "stdout",
     "output_type": "stream",
     "text": [
      "Количество значений с zid = -2: 146\n"
     ]
    }
   ],
   "source": [
    "print('Количество значений с zid = -2:', df_home_work.loc[df_home_work['home_zid'] == -2].shape[0])"
   ]
  },
  {
   "cell_type": "code",
   "execution_count": 11,
   "id": "70157165",
   "metadata": {},
   "outputs": [
    {
     "name": "stdout",
     "output_type": "stream",
     "text": [
      "Количество значений с zid = -2: 584\n"
     ]
    }
   ],
   "source": [
    "print('Количество значений с zid = -2:', df_home_work.query('home_zid <= 0 or work_zid <= 0').shape[0])"
   ]
  },
  {
   "cell_type": "code",
   "execution_count": 12,
   "id": "ea73742d",
   "metadata": {},
   "outputs": [
    {
     "name": "stdout",
     "output_type": "stream",
     "text": [
      "Процент значений в Matrix_Home_Work_July с zid<=0: 2.83 %\n"
     ]
    }
   ],
   "source": [
    "print(\n",
    "    'Процент значений в Matrix_Home_Work_July с zid<=0:',\n",
    "    round(df_home_work.loc[(df_home_work['home_zid'] <= 0) | (df_home_work['work_zid'] <= 0)].shape[0]/df_home_work.shape[0]*100, 2),\n",
    "    '%'\n",
    ")\n"
   ]
  },
  {
   "cell_type": "code",
   "execution_count": 13,
   "id": "c4c901c9",
   "metadata": {},
   "outputs": [
    {
     "name": "stdout",
     "output_type": "stream",
     "text": [
      "Процент значений в CMatrix_Home_Work_July с zid<=0: 4.48 %\n"
     ]
    }
   ],
   "source": [
    "print(\n",
    "    'Процент значений в CMatrix_Home_Work_July с zid<=0:',\n",
    "    round(df_chome_work.loc[(df_chome_work['home_zid'] <= 0) | (df_chome_work['work_zid'] <= 0)].shape[0]/df_chome_work.shape[0]*100, 2),\n",
    "    '%'\n",
    ")\n"
   ]
  },
  {
   "cell_type": "markdown",
   "id": "d8f768b7",
   "metadata": {},
   "source": [
    "## Административное деление районов\n",
    "\n",
    "Загрузим так же справочник соотношения секторов 500х500м и административного деления районов Москвы"
   ]
  },
  {
   "cell_type": "code",
   "execution_count": 14,
   "id": "f5e60875",
   "metadata": {
    "scrolled": false
   },
   "outputs": [
    {
     "data": {
      "text/html": [
       "<div>\n",
       "<style scoped>\n",
       "    .dataframe tbody tr th:only-of-type {\n",
       "        vertical-align: middle;\n",
       "    }\n",
       "\n",
       "    .dataframe tbody tr th {\n",
       "        vertical-align: top;\n",
       "    }\n",
       "\n",
       "    .dataframe thead th {\n",
       "        text-align: right;\n",
       "    }\n",
       "</style>\n",
       "<table border=\"1\" class=\"dataframe\">\n",
       "  <thead>\n",
       "    <tr style=\"text-align: right;\">\n",
       "      <th></th>\n",
       "      <th>cell_zid</th>\n",
       "      <th>area_peresechenia_s_admzone_kv.km</th>\n",
       "      <th>adm_zid</th>\n",
       "      <th>adm_name</th>\n",
       "      <th>okrug_name</th>\n",
       "      <th>sub_ter</th>\n",
       "    </tr>\n",
       "  </thead>\n",
       "  <tbody>\n",
       "    <tr>\n",
       "      <th>0</th>\n",
       "      <td>32909</td>\n",
       "      <td>0.407116</td>\n",
       "      <td>216</td>\n",
       "      <td>Роговское</td>\n",
       "      <td>Троицкий административный округ</td>\n",
       "      <td>Новая Москва</td>\n",
       "    </tr>\n",
       "    <tr>\n",
       "      <th>1</th>\n",
       "      <td>32910</td>\n",
       "      <td>1.003458</td>\n",
       "      <td>216</td>\n",
       "      <td>Роговское</td>\n",
       "      <td>Троицкий административный округ</td>\n",
       "      <td>Новая Москва</td>\n",
       "    </tr>\n",
       "    <tr>\n",
       "      <th>2</th>\n",
       "      <td>33261</td>\n",
       "      <td>0.233312</td>\n",
       "      <td>216</td>\n",
       "      <td>Роговское</td>\n",
       "      <td>Троицкий административный округ</td>\n",
       "      <td>Новая Москва</td>\n",
       "    </tr>\n",
       "  </tbody>\n",
       "</table>\n",
       "</div>"
      ],
      "text/plain": [
       "   cell_zid  area_peresechenia_s_admzone_kv.km  adm_zid   adm_name  \\\n",
       "0     32909                           0.407116      216  Роговское   \n",
       "1     32910                           1.003458      216  Роговское   \n",
       "2     33261                           0.233312      216  Роговское   \n",
       "\n",
       "                        okrug_name       sub_ter  \n",
       "0  Троицкий административный округ  Новая Москва  \n",
       "1  Троицкий административный округ  Новая Москва  \n",
       "2  Троицкий административный округ  Новая Москва  "
      ]
     },
     "execution_count": 14,
     "metadata": {},
     "output_type": "execute_result"
    }
   ],
   "source": [
    "#df_sector_rel = pd.read_excel('./datasets/Справочник_соотношения_секторов_500х500м_и_адм_районов_МСК.xlsx')\n",
    "#df_sector_rel.to_csv('./datasets/relations_between_500x500_and_MSC.csv', index=False)\n",
    "df_sector_rel = pd.read_csv('./datasets/relations_between_500x500_and_MSC.csv')\n",
    "df_sector_rel.head(3)"
   ]
  },
  {
   "cell_type": "code",
   "execution_count": 15,
   "id": "498b4945",
   "metadata": {},
   "outputs": [
    {
     "data": {
      "text/html": [
       "<div>\n",
       "<style scoped>\n",
       "    .dataframe tbody tr th:only-of-type {\n",
       "        vertical-align: middle;\n",
       "    }\n",
       "\n",
       "    .dataframe tbody tr th {\n",
       "        vertical-align: top;\n",
       "    }\n",
       "\n",
       "    .dataframe thead th {\n",
       "        text-align: right;\n",
       "    }\n",
       "</style>\n",
       "<table border=\"1\" class=\"dataframe\">\n",
       "  <thead>\n",
       "    <tr style=\"text-align: right;\">\n",
       "      <th></th>\n",
       "      <th>cell_zid</th>\n",
       "      <th>area_peresechenia_s_admzone_kv.km</th>\n",
       "      <th>adm_zid</th>\n",
       "    </tr>\n",
       "  </thead>\n",
       "  <tbody>\n",
       "    <tr>\n",
       "      <th>count</th>\n",
       "      <td>13232.000000</td>\n",
       "      <td>1.323200e+04</td>\n",
       "      <td>13232.000000</td>\n",
       "    </tr>\n",
       "    <tr>\n",
       "      <th>mean</th>\n",
       "      <td>86399.263755</td>\n",
       "      <td>1.907860e+00</td>\n",
       "      <td>145.154776</td>\n",
       "    </tr>\n",
       "    <tr>\n",
       "      <th>std</th>\n",
       "      <td>26044.221345</td>\n",
       "      <td>8.655121e-01</td>\n",
       "      <td>88.766849</td>\n",
       "    </tr>\n",
       "    <tr>\n",
       "      <th>min</th>\n",
       "      <td>32909.000000</td>\n",
       "      <td>1.000000e-08</td>\n",
       "      <td>1.000000</td>\n",
       "    </tr>\n",
       "    <tr>\n",
       "      <th>25%</th>\n",
       "      <td>64572.750000</td>\n",
       "      <td>1.382770e+00</td>\n",
       "      <td>60.000000</td>\n",
       "    </tr>\n",
       "    <tr>\n",
       "      <th>50%</th>\n",
       "      <td>89067.000000</td>\n",
       "      <td>2.500603e+00</td>\n",
       "      <td>187.000000</td>\n",
       "    </tr>\n",
       "    <tr>\n",
       "      <th>75%</th>\n",
       "      <td>108079.250000</td>\n",
       "      <td>2.500670e+00</td>\n",
       "      <td>228.000000</td>\n",
       "    </tr>\n",
       "    <tr>\n",
       "      <th>max</th>\n",
       "      <td>139343.000000</td>\n",
       "      <td>2.500685e+00</td>\n",
       "      <td>276.000000</td>\n",
       "    </tr>\n",
       "  </tbody>\n",
       "</table>\n",
       "</div>"
      ],
      "text/plain": [
       "            cell_zid  area_peresechenia_s_admzone_kv.km       adm_zid\n",
       "count   13232.000000                       1.323200e+04  13232.000000\n",
       "mean    86399.263755                       1.907860e+00    145.154776\n",
       "std     26044.221345                       8.655121e-01     88.766849\n",
       "min     32909.000000                       1.000000e-08      1.000000\n",
       "25%     64572.750000                       1.382770e+00     60.000000\n",
       "50%     89067.000000                       2.500603e+00    187.000000\n",
       "75%    108079.250000                       2.500670e+00    228.000000\n",
       "max    139343.000000                       2.500685e+00    276.000000"
      ]
     },
     "execution_count": 15,
     "metadata": {},
     "output_type": "execute_result"
    }
   ],
   "source": [
    "df_sector_rel.describe()"
   ]
  },
  {
   "cell_type": "code",
   "execution_count": 16,
   "id": "3bcdd5be",
   "metadata": {},
   "outputs": [
    {
     "data": {
      "text/plain": [
       "Новая Москва     6734\n",
       "Старая Москва    6498\n",
       "Name: sub_ter, dtype: int64"
      ]
     },
     "execution_count": 16,
     "metadata": {},
     "output_type": "execute_result"
    }
   ],
   "source": [
    "df_sector_rel['sub_ter'].value_counts()"
   ]
  },
  {
   "cell_type": "code",
   "execution_count": 17,
   "id": "12b211f0",
   "metadata": {},
   "outputs": [],
   "source": [
    "new_zid_list = df_sector_rel.query('sub_ter == \"Новая Москва\"')['cell_zid'].to_list()"
   ]
  },
  {
   "cell_type": "code",
   "execution_count": 18,
   "id": "31ad5679",
   "metadata": {},
   "outputs": [
    {
     "data": {
      "text/html": [
       "<div>\n",
       "<style scoped>\n",
       "    .dataframe tbody tr th:only-of-type {\n",
       "        vertical-align: middle;\n",
       "    }\n",
       "\n",
       "    .dataframe tbody tr th {\n",
       "        vertical-align: top;\n",
       "    }\n",
       "\n",
       "    .dataframe thead th {\n",
       "        text-align: right;\n",
       "    }\n",
       "</style>\n",
       "<table border=\"1\" class=\"dataframe\">\n",
       "  <thead>\n",
       "    <tr style=\"text-align: right;\">\n",
       "      <th></th>\n",
       "      <th>zid</th>\n",
       "      <th>customers_cnt_home</th>\n",
       "      <th>customers_cnt_job</th>\n",
       "      <th>customers_cnt_day</th>\n",
       "      <th>customers_cnt_move</th>\n",
       "    </tr>\n",
       "  </thead>\n",
       "  <tbody>\n",
       "    <tr>\n",
       "      <th>0</th>\n",
       "      <td>32909</td>\n",
       "      <td>4</td>\n",
       "      <td>0</td>\n",
       "      <td>0</td>\n",
       "      <td>0</td>\n",
       "    </tr>\n",
       "    <tr>\n",
       "      <th>1</th>\n",
       "      <td>32910</td>\n",
       "      <td>25</td>\n",
       "      <td>8</td>\n",
       "      <td>26</td>\n",
       "      <td>0</td>\n",
       "    </tr>\n",
       "    <tr>\n",
       "      <th>2</th>\n",
       "      <td>33261</td>\n",
       "      <td>2</td>\n",
       "      <td>0</td>\n",
       "      <td>2</td>\n",
       "      <td>0</td>\n",
       "    </tr>\n",
       "    <tr>\n",
       "      <th>3</th>\n",
       "      <td>33262</td>\n",
       "      <td>13</td>\n",
       "      <td>2</td>\n",
       "      <td>11</td>\n",
       "      <td>0</td>\n",
       "    </tr>\n",
       "    <tr>\n",
       "      <th>4</th>\n",
       "      <td>33263</td>\n",
       "      <td>10</td>\n",
       "      <td>0</td>\n",
       "      <td>3</td>\n",
       "      <td>0</td>\n",
       "    </tr>\n",
       "    <tr>\n",
       "      <th>...</th>\n",
       "      <td>...</td>\n",
       "      <td>...</td>\n",
       "      <td>...</td>\n",
       "      <td>...</td>\n",
       "      <td>...</td>\n",
       "    </tr>\n",
       "    <tr>\n",
       "      <th>6716</th>\n",
       "      <td>97395</td>\n",
       "      <td>586</td>\n",
       "      <td>214</td>\n",
       "      <td>481</td>\n",
       "      <td>30</td>\n",
       "    </tr>\n",
       "    <tr>\n",
       "      <th>6723</th>\n",
       "      <td>97403</td>\n",
       "      <td>2864</td>\n",
       "      <td>679</td>\n",
       "      <td>1507</td>\n",
       "      <td>201</td>\n",
       "    </tr>\n",
       "    <tr>\n",
       "      <th>6724</th>\n",
       "      <td>97404</td>\n",
       "      <td>1235</td>\n",
       "      <td>277</td>\n",
       "      <td>622</td>\n",
       "      <td>60</td>\n",
       "    </tr>\n",
       "    <tr>\n",
       "      <th>6725</th>\n",
       "      <td>97405</td>\n",
       "      <td>839</td>\n",
       "      <td>655</td>\n",
       "      <td>921</td>\n",
       "      <td>44</td>\n",
       "    </tr>\n",
       "    <tr>\n",
       "      <th>6726</th>\n",
       "      <td>97406</td>\n",
       "      <td>408</td>\n",
       "      <td>449</td>\n",
       "      <td>605</td>\n",
       "      <td>28</td>\n",
       "    </tr>\n",
       "  </tbody>\n",
       "</table>\n",
       "<p>5896 rows × 5 columns</p>\n",
       "</div>"
      ],
      "text/plain": [
       "        zid  customers_cnt_home  customers_cnt_job  customers_cnt_day  \\\n",
       "0     32909                   4                  0                  0   \n",
       "1     32910                  25                  8                 26   \n",
       "2     33261                   2                  0                  2   \n",
       "3     33262                  13                  2                 11   \n",
       "4     33263                  10                  0                  3   \n",
       "...     ...                 ...                ...                ...   \n",
       "6716  97395                 586                214                481   \n",
       "6723  97403                2864                679               1507   \n",
       "6724  97404                1235                277                622   \n",
       "6725  97405                 839                655                921   \n",
       "6726  97406                 408                449                605   \n",
       "\n",
       "      customers_cnt_move  \n",
       "0                      0  \n",
       "1                      0  \n",
       "2                      0  \n",
       "3                      0  \n",
       "4                      0  \n",
       "...                  ...  \n",
       "6716                  30  \n",
       "6723                 201  \n",
       "6724                  60  \n",
       "6725                  44  \n",
       "6726                  28  \n",
       "\n",
       "[5896 rows x 5 columns]"
      ]
     },
     "execution_count": 18,
     "metadata": {},
     "output_type": "execute_result"
    }
   ],
   "source": [
    "df_cloc[df_cloc['zid'].isin(new_zid_list)]"
   ]
  },
  {
   "cell_type": "code",
   "execution_count": 19,
   "id": "3306ceef",
   "metadata": {},
   "outputs": [
    {
     "data": {
      "text/html": [
       "<div>\n",
       "<style scoped>\n",
       "    .dataframe tbody tr th:only-of-type {\n",
       "        vertical-align: middle;\n",
       "    }\n",
       "\n",
       "    .dataframe tbody tr th {\n",
       "        vertical-align: top;\n",
       "    }\n",
       "\n",
       "    .dataframe thead th {\n",
       "        text-align: right;\n",
       "    }\n",
       "</style>\n",
       "<table border=\"1\" class=\"dataframe\">\n",
       "  <thead>\n",
       "    <tr style=\"text-align: right;\">\n",
       "      <th></th>\n",
       "      <th>zid</th>\n",
       "      <th>customers_cnt_home</th>\n",
       "      <th>customers_cnt_job</th>\n",
       "      <th>customers_cnt_day</th>\n",
       "      <th>customers_cnt_move</th>\n",
       "    </tr>\n",
       "  </thead>\n",
       "  <tbody>\n",
       "    <tr>\n",
       "      <th>4315</th>\n",
       "      <td>75683</td>\n",
       "      <td>508</td>\n",
       "      <td>123</td>\n",
       "      <td>326</td>\n",
       "      <td>18</td>\n",
       "    </tr>\n",
       "    <tr>\n",
       "      <th>4316</th>\n",
       "      <td>75684</td>\n",
       "      <td>316</td>\n",
       "      <td>63</td>\n",
       "      <td>168</td>\n",
       "      <td>20</td>\n",
       "    </tr>\n",
       "    <tr>\n",
       "      <th>4388</th>\n",
       "      <td>76301</td>\n",
       "      <td>1697</td>\n",
       "      <td>255</td>\n",
       "      <td>899</td>\n",
       "      <td>105</td>\n",
       "    </tr>\n",
       "    <tr>\n",
       "      <th>4389</th>\n",
       "      <td>76302</td>\n",
       "      <td>1979</td>\n",
       "      <td>260</td>\n",
       "      <td>925</td>\n",
       "      <td>147</td>\n",
       "    </tr>\n",
       "    <tr>\n",
       "      <th>4462</th>\n",
       "      <td>76919</td>\n",
       "      <td>1424</td>\n",
       "      <td>296</td>\n",
       "      <td>776</td>\n",
       "      <td>77</td>\n",
       "    </tr>\n",
       "    <tr>\n",
       "      <th>...</th>\n",
       "      <td>...</td>\n",
       "      <td>...</td>\n",
       "      <td>...</td>\n",
       "      <td>...</td>\n",
       "      <td>...</td>\n",
       "    </tr>\n",
       "    <tr>\n",
       "      <th>10235</th>\n",
       "      <td>138913</td>\n",
       "      <td>77</td>\n",
       "      <td>455</td>\n",
       "      <td>495</td>\n",
       "      <td>1</td>\n",
       "    </tr>\n",
       "    <tr>\n",
       "      <th>10236</th>\n",
       "      <td>138914</td>\n",
       "      <td>165</td>\n",
       "      <td>796</td>\n",
       "      <td>884</td>\n",
       "      <td>8</td>\n",
       "    </tr>\n",
       "    <tr>\n",
       "      <th>10237</th>\n",
       "      <td>138915</td>\n",
       "      <td>587</td>\n",
       "      <td>1341</td>\n",
       "      <td>1661</td>\n",
       "      <td>19</td>\n",
       "    </tr>\n",
       "    <tr>\n",
       "      <th>10238</th>\n",
       "      <td>138916</td>\n",
       "      <td>1206</td>\n",
       "      <td>1669</td>\n",
       "      <td>2177</td>\n",
       "      <td>47</td>\n",
       "    </tr>\n",
       "    <tr>\n",
       "      <th>10239</th>\n",
       "      <td>139343</td>\n",
       "      <td>75</td>\n",
       "      <td>233</td>\n",
       "      <td>269</td>\n",
       "      <td>5</td>\n",
       "    </tr>\n",
       "  </tbody>\n",
       "</table>\n",
       "<p>4344 rows × 5 columns</p>\n",
       "</div>"
      ],
      "text/plain": [
       "          zid  customers_cnt_home  customers_cnt_job  customers_cnt_day  \\\n",
       "4315    75683                 508                123                326   \n",
       "4316    75684                 316                 63                168   \n",
       "4388    76301                1697                255                899   \n",
       "4389    76302                1979                260                925   \n",
       "4462    76919                1424                296                776   \n",
       "...       ...                 ...                ...                ...   \n",
       "10235  138913                  77                455                495   \n",
       "10236  138914                 165                796                884   \n",
       "10237  138915                 587               1341               1661   \n",
       "10238  138916                1206               1669               2177   \n",
       "10239  139343                  75                233                269   \n",
       "\n",
       "       customers_cnt_move  \n",
       "4315                   18  \n",
       "4316                   20  \n",
       "4388                  105  \n",
       "4389                  147  \n",
       "4462                   77  \n",
       "...                   ...  \n",
       "10235                   1  \n",
       "10236                   8  \n",
       "10237                  19  \n",
       "10238                  47  \n",
       "10239                   5  \n",
       "\n",
       "[4344 rows x 5 columns]"
      ]
     },
     "execution_count": 19,
     "metadata": {},
     "output_type": "execute_result"
    }
   ],
   "source": [
    "df_cloc[~df_cloc['zid'].isin(new_zid_list)]"
   ]
  },
  {
   "cell_type": "code",
   "execution_count": 20,
   "id": "f0b63c74",
   "metadata": {},
   "outputs": [
    {
     "data": {
      "text/html": [
       "<div>\n",
       "<style scoped>\n",
       "    .dataframe tbody tr th:only-of-type {\n",
       "        vertical-align: middle;\n",
       "    }\n",
       "\n",
       "    .dataframe tbody tr th {\n",
       "        vertical-align: top;\n",
       "    }\n",
       "\n",
       "    .dataframe thead th {\n",
       "        text-align: right;\n",
       "    }\n",
       "</style>\n",
       "<table border=\"1\" class=\"dataframe\">\n",
       "  <thead>\n",
       "    <tr style=\"text-align: right;\">\n",
       "      <th></th>\n",
       "      <th>cell_zid</th>\n",
       "      <th>area_peresechenia_s_admzone_kv.km</th>\n",
       "      <th>adm_zid</th>\n",
       "    </tr>\n",
       "  </thead>\n",
       "  <tbody>\n",
       "    <tr>\n",
       "      <th>count</th>\n",
       "      <td>13232.000000</td>\n",
       "      <td>1.323200e+04</td>\n",
       "      <td>13232.000000</td>\n",
       "    </tr>\n",
       "    <tr>\n",
       "      <th>mean</th>\n",
       "      <td>86399.263755</td>\n",
       "      <td>1.907860e+00</td>\n",
       "      <td>145.154776</td>\n",
       "    </tr>\n",
       "    <tr>\n",
       "      <th>std</th>\n",
       "      <td>26044.221345</td>\n",
       "      <td>8.655121e-01</td>\n",
       "      <td>88.766849</td>\n",
       "    </tr>\n",
       "    <tr>\n",
       "      <th>min</th>\n",
       "      <td>32909.000000</td>\n",
       "      <td>1.000000e-08</td>\n",
       "      <td>1.000000</td>\n",
       "    </tr>\n",
       "    <tr>\n",
       "      <th>25%</th>\n",
       "      <td>64572.750000</td>\n",
       "      <td>1.382770e+00</td>\n",
       "      <td>60.000000</td>\n",
       "    </tr>\n",
       "    <tr>\n",
       "      <th>50%</th>\n",
       "      <td>89067.000000</td>\n",
       "      <td>2.500603e+00</td>\n",
       "      <td>187.000000</td>\n",
       "    </tr>\n",
       "    <tr>\n",
       "      <th>75%</th>\n",
       "      <td>108079.250000</td>\n",
       "      <td>2.500670e+00</td>\n",
       "      <td>228.000000</td>\n",
       "    </tr>\n",
       "    <tr>\n",
       "      <th>max</th>\n",
       "      <td>139343.000000</td>\n",
       "      <td>2.500685e+00</td>\n",
       "      <td>276.000000</td>\n",
       "    </tr>\n",
       "  </tbody>\n",
       "</table>\n",
       "</div>"
      ],
      "text/plain": [
       "            cell_zid  area_peresechenia_s_admzone_kv.km       adm_zid\n",
       "count   13232.000000                       1.323200e+04  13232.000000\n",
       "mean    86399.263755                       1.907860e+00    145.154776\n",
       "std     26044.221345                       8.655121e-01     88.766849\n",
       "min     32909.000000                       1.000000e-08      1.000000\n",
       "25%     64572.750000                       1.382770e+00     60.000000\n",
       "50%     89067.000000                       2.500603e+00    187.000000\n",
       "75%    108079.250000                       2.500670e+00    228.000000\n",
       "max    139343.000000                       2.500685e+00    276.000000"
      ]
     },
     "execution_count": 20,
     "metadata": {},
     "output_type": "execute_result"
    }
   ],
   "source": [
    "df_sector_rel.describe()"
   ]
  },
  {
   "cell_type": "markdown",
   "id": "2449ab15",
   "metadata": {},
   "source": [
    "## Загрузим геоданные"
   ]
  },
  {
   "cell_type": "code",
   "execution_count": 21,
   "id": "023bf318",
   "metadata": {},
   "outputs": [],
   "source": [
    "shp_admzones = gpd.read_file('./datasets/admzones2021/admzones2021.shp')\n",
    "shp_fishnet = gpd.read_file('./datasets/fishnet2021/fishnet2021.shp')"
   ]
  },
  {
   "cell_type": "code",
   "execution_count": 22,
   "id": "f2720e03",
   "metadata": {},
   "outputs": [
    {
     "name": "stdout",
     "output_type": "stream",
     "text": [
      "<class 'geopandas.geodataframe.GeoDataFrame'>\n",
      "RangeIndex: 206 entries, 0 to 205\n",
      "Data columns (total 7 columns):\n",
      " #   Column      Non-Null Count  Dtype   \n",
      "---  ------      --------------  -----   \n",
      " 0   adm_zid     206 non-null    int64   \n",
      " 1   adm_name    206 non-null    object  \n",
      " 2   okrug_name  146 non-null    object  \n",
      " 3   sub_ter     206 non-null    object  \n",
      " 4   okrug_id    146 non-null    float64 \n",
      " 5   area        206 non-null    float64 \n",
      " 6   geometry    206 non-null    geometry\n",
      "dtypes: float64(2), geometry(1), int64(1), object(3)\n",
      "memory usage: 11.4+ KB\n"
     ]
    }
   ],
   "source": [
    "shp_admzones.info()"
   ]
  },
  {
   "cell_type": "code",
   "execution_count": 23,
   "id": "511c4328",
   "metadata": {},
   "outputs": [
    {
     "name": "stdout",
     "output_type": "stream",
     "text": [
      "<class 'geopandas.geodataframe.GeoDataFrame'>\n",
      "RangeIndex: 189892 entries, 0 to 189891\n",
      "Data columns (total 2 columns):\n",
      " #   Column    Non-Null Count   Dtype   \n",
      "---  ------    --------------   -----   \n",
      " 0   cell_zid  189892 non-null  int64   \n",
      " 1   geometry  189892 non-null  geometry\n",
      "dtypes: geometry(1), int64(1)\n",
      "memory usage: 2.9 MB\n"
     ]
    }
   ],
   "source": [
    "shp_fishnet.info()"
   ]
  },
  {
   "cell_type": "code",
   "execution_count": 24,
   "id": "f8113c21",
   "metadata": {},
   "outputs": [
    {
     "data": {
      "text/html": [
       "<div>\n",
       "<style scoped>\n",
       "    .dataframe tbody tr th:only-of-type {\n",
       "        vertical-align: middle;\n",
       "    }\n",
       "\n",
       "    .dataframe tbody tr th {\n",
       "        vertical-align: top;\n",
       "    }\n",
       "\n",
       "    .dataframe thead th {\n",
       "        text-align: right;\n",
       "    }\n",
       "</style>\n",
       "<table border=\"1\" class=\"dataframe\">\n",
       "  <thead>\n",
       "    <tr style=\"text-align: right;\">\n",
       "      <th></th>\n",
       "      <th>adm_zid</th>\n",
       "      <th>adm_name</th>\n",
       "      <th>okrug_name</th>\n",
       "      <th>sub_ter</th>\n",
       "      <th>okrug_id</th>\n",
       "      <th>area</th>\n",
       "      <th>geometry</th>\n",
       "    </tr>\n",
       "  </thead>\n",
       "  <tbody>\n",
       "    <tr>\n",
       "      <th>0</th>\n",
       "      <td>519</td>\n",
       "      <td>Коломна</td>\n",
       "      <td>None</td>\n",
       "      <td>Московская область</td>\n",
       "      <td>NaN</td>\n",
       "      <td>1.728866e+09</td>\n",
       "      <td>POLYGON ((38.30978 54.86069, 38.30978 54.86069...</td>\n",
       "    </tr>\n",
       "    <tr>\n",
       "      <th>1</th>\n",
       "      <td>507</td>\n",
       "      <td>Дзержинский</td>\n",
       "      <td>None</td>\n",
       "      <td>Московская область</td>\n",
       "      <td>NaN</td>\n",
       "      <td>1.566430e+07</td>\n",
       "      <td>POLYGON ((37.79389 55.62307, 37.79601 55.62424...</td>\n",
       "    </tr>\n",
       "    <tr>\n",
       "      <th>2</th>\n",
       "      <td>109</td>\n",
       "      <td>Перово</td>\n",
       "      <td>Восточный административный округ</td>\n",
       "      <td>Старая Москва</td>\n",
       "      <td>561.0</td>\n",
       "      <td>9.829908e+06</td>\n",
       "      <td>POLYGON ((37.75633 55.75959, 37.76380 55.76104...</td>\n",
       "    </tr>\n",
       "    <tr>\n",
       "      <th>3</th>\n",
       "      <td>533</td>\n",
       "      <td>Мытищи</td>\n",
       "      <td>None</td>\n",
       "      <td>Московская область</td>\n",
       "      <td>NaN</td>\n",
       "      <td>4.312459e+08</td>\n",
       "      <td>POLYGON ((37.73215 55.87984, 37.73064 55.88059...</td>\n",
       "    </tr>\n",
       "    <tr>\n",
       "      <th>4</th>\n",
       "      <td>66</td>\n",
       "      <td>Тверской</td>\n",
       "      <td>Центральный административный округ</td>\n",
       "      <td>Старая Москва</td>\n",
       "      <td>569.0</td>\n",
       "      <td>7.322588e+06</td>\n",
       "      <td>POLYGON ((37.61262 55.78248, 37.61457 55.78181...</td>\n",
       "    </tr>\n",
       "  </tbody>\n",
       "</table>\n",
       "</div>"
      ],
      "text/plain": [
       "   adm_zid     adm_name                          okrug_name  \\\n",
       "0      519      Коломна                                None   \n",
       "1      507  Дзержинский                                None   \n",
       "2      109       Перово    Восточный административный округ   \n",
       "3      533       Мытищи                                None   \n",
       "4       66     Тверской  Центральный административный округ   \n",
       "\n",
       "              sub_ter  okrug_id          area  \\\n",
       "0  Московская область       NaN  1.728866e+09   \n",
       "1  Московская область       NaN  1.566430e+07   \n",
       "2       Старая Москва     561.0  9.829908e+06   \n",
       "3  Московская область       NaN  4.312459e+08   \n",
       "4       Старая Москва     569.0  7.322588e+06   \n",
       "\n",
       "                                            geometry  \n",
       "0  POLYGON ((38.30978 54.86069, 38.30978 54.86069...  \n",
       "1  POLYGON ((37.79389 55.62307, 37.79601 55.62424...  \n",
       "2  POLYGON ((37.75633 55.75959, 37.76380 55.76104...  \n",
       "3  POLYGON ((37.73215 55.87984, 37.73064 55.88059...  \n",
       "4  POLYGON ((37.61262 55.78248, 37.61457 55.78181...  "
      ]
     },
     "execution_count": 24,
     "metadata": {},
     "output_type": "execute_result"
    }
   ],
   "source": [
    "shp_admzones.head()"
   ]
  },
  {
   "cell_type": "code",
   "execution_count": 25,
   "id": "5c1a7b93",
   "metadata": {},
   "outputs": [
    {
     "data": {
      "text/html": [
       "<div>\n",
       "<style scoped>\n",
       "    .dataframe tbody tr th:only-of-type {\n",
       "        vertical-align: middle;\n",
       "    }\n",
       "\n",
       "    .dataframe tbody tr th {\n",
       "        vertical-align: top;\n",
       "    }\n",
       "\n",
       "    .dataframe thead th {\n",
       "        text-align: right;\n",
       "    }\n",
       "</style>\n",
       "<table border=\"1\" class=\"dataframe\">\n",
       "  <thead>\n",
       "    <tr style=\"text-align: right;\">\n",
       "      <th></th>\n",
       "      <th>cell_zid</th>\n",
       "      <th>geometry</th>\n",
       "    </tr>\n",
       "  </thead>\n",
       "  <tbody>\n",
       "    <tr>\n",
       "      <th>0</th>\n",
       "      <td>0</td>\n",
       "      <td>POLYGON ((38.64721 54.25524, 38.64733 54.25973...</td>\n",
       "    </tr>\n",
       "    <tr>\n",
       "      <th>1</th>\n",
       "      <td>1</td>\n",
       "      <td>POLYGON ((38.65488 54.25517, 38.65500 54.25966...</td>\n",
       "    </tr>\n",
       "    <tr>\n",
       "      <th>2</th>\n",
       "      <td>2</td>\n",
       "      <td>POLYGON ((38.66255 54.25510, 38.66268 54.25959...</td>\n",
       "    </tr>\n",
       "    <tr>\n",
       "      <th>3</th>\n",
       "      <td>3</td>\n",
       "      <td>POLYGON ((38.67022 54.25502, 38.67035 54.25951...</td>\n",
       "    </tr>\n",
       "    <tr>\n",
       "      <th>4</th>\n",
       "      <td>4</td>\n",
       "      <td>POLYGON ((38.67789 54.25495, 38.67802 54.25944...</td>\n",
       "    </tr>\n",
       "  </tbody>\n",
       "</table>\n",
       "</div>"
      ],
      "text/plain": [
       "   cell_zid                                           geometry\n",
       "0         0  POLYGON ((38.64721 54.25524, 38.64733 54.25973...\n",
       "1         1  POLYGON ((38.65488 54.25517, 38.65500 54.25966...\n",
       "2         2  POLYGON ((38.66255 54.25510, 38.66268 54.25959...\n",
       "3         3  POLYGON ((38.67022 54.25502, 38.67035 54.25951...\n",
       "4         4  POLYGON ((38.67789 54.25495, 38.67802 54.25944..."
      ]
     },
     "execution_count": 25,
     "metadata": {},
     "output_type": "execute_result"
    }
   ],
   "source": [
    "shp_fishnet.head()"
   ]
  },
  {
   "cell_type": "code",
   "execution_count": 26,
   "id": "5a46c25e",
   "metadata": {},
   "outputs": [],
   "source": [
    "#shp_fishnet.plot(figsize=(17,17))\n",
    "#shp_admzones.plot(figsize=(17,17))\n",
    "#plt.show()"
   ]
  },
  {
   "cell_type": "code",
   "execution_count": 127,
   "id": "ba945f6b",
   "metadata": {
    "scrolled": false
   },
   "outputs": [
    {
     "data": {
      "image/png": "[encoded data removed]",
      "text/plain": [
       "<Figure size 1224x1224 with 1 Axes>"
      ]
     },
     "metadata": {
      "needs_background": "light"
     },
     "output_type": "display_data"
    }
   ],
   "source": [
    "#ax = shp_admzones.plot(figsize=(17,17), alpha=0.5)\n",
    "\n",
    "pd.merge(\n",
    "    shp_admzones,\n",
    "    df_sector_rel[['cell_zid', 'adm_zid']],\n",
    "    how=\"inner\",\n",
    "    on='adm_zid',\n",
    "    sort=False,\n",
    "    suffixes=(\"_x\", \"_y\"),\n",
    "    copy=True,\n",
    "    indicator=False,\n",
    "    validate=None,\n",
    ").plot(figsize=(17,17), color='red', alpha=0.01)\n",
    "\n",
    "plt.show()"
   ]
  },
  {
   "cell_type": "code",
   "execution_count": 28,
   "id": "abed0c0c",
   "metadata": {},
   "outputs": [],
   "source": [
    "#df_sector_rel = pd.read_excel('./datasets/Справочник_соотношения_секторов_500х500м_и_адм_районов_МСК.xlsx')\n",
    "#df_sector_rel.to_csv('./datasets/relations_between_500x500_and_MSC.csv', index=False)\n",
    "df_sector_rel = pd.read_csv('./datasets/relations_between_500x500_and_MSC.csv')"
   ]
  },
  {
   "cell_type": "code",
   "execution_count": 29,
   "id": "679f513c",
   "metadata": {},
   "outputs": [
    {
     "name": "stderr",
     "output_type": "stream",
     "text": [
      "/Users/iliakhokhlov/miniforge3/lib/python3.9/site-packages/openpyxl/styles/stylesheet.py:226: UserWarning: Workbook contains no default style, apply openpyxl's default\n",
      "  warn(\"Workbook contains no default style, apply openpyxl's default\")\n"
     ]
    }
   ],
   "source": [
    "pd.read_excel('./data_mos_ru/data-4113-2021-10-11.xlsx').to_csv('./data_mos_ru/culture.csv', index=False)"
   ]
  },
  {
   "cell_type": "code",
   "execution_count": 30,
   "id": "dcc0b5f8",
   "metadata": {},
   "outputs": [],
   "source": [
    "df_culture = pd.read_csv('./data_mos_ru/culture.csv').drop(['ObjectName', 'geoarea', 'Link'], axis=1)"
   ]
  },
  {
   "cell_type": "code",
   "execution_count": 31,
   "id": "c2129acf",
   "metadata": {},
   "outputs": [
    {
     "name": "stdout",
     "output_type": "stream",
     "text": [
      "<class 'pandas.core.frame.DataFrame'>\n",
      "RangeIndex: 516 entries, 0 to 515\n",
      "Data columns (total 4 columns):\n",
      " #   Column           Non-Null Count  Dtype \n",
      "---  ------           --------------  ----- \n",
      " 0   ID               516 non-null    int64 \n",
      " 1   ObjectNameOnDoc  516 non-null    object\n",
      " 2   global_id        516 non-null    int64 \n",
      " 3   geodata_center   516 non-null    object\n",
      "dtypes: int64(2), object(2)\n",
      "memory usage: 16.2+ KB\n"
     ]
    }
   ],
   "source": [
    "df_culture.info()"
   ]
  },
  {
   "cell_type": "code",
   "execution_count": 60,
   "id": "d40a7414",
   "metadata": {},
   "outputs": [],
   "source": [
    "import json\n",
    "def coords(row):\n",
    "    data = row['geodata_center']\n",
    "    coord = json.loads(data)['coordinates']\n",
    "    type_ = json.loads(data)['type']\n",
    "    return coord, type_"
   ]
  },
  {
   "cell_type": "code",
   "execution_count": 61,
   "id": "112e9eb4",
   "metadata": {},
   "outputs": [
    {
     "data": {
      "text/html": [
       "<div>\n",
       "<style scoped>\n",
       "    .dataframe tbody tr th:only-of-type {\n",
       "        vertical-align: middle;\n",
       "    }\n",
       "\n",
       "    .dataframe tbody tr th {\n",
       "        vertical-align: top;\n",
       "    }\n",
       "\n",
       "    .dataframe thead th {\n",
       "        text-align: right;\n",
       "    }\n",
       "</style>\n",
       "<table border=\"1\" class=\"dataframe\">\n",
       "  <thead>\n",
       "    <tr style=\"text-align: right;\">\n",
       "      <th></th>\n",
       "      <th>ID</th>\n",
       "      <th>ObjectNameOnDoc</th>\n",
       "      <th>global_id</th>\n",
       "      <th>geodata_center</th>\n",
       "      <th>coordinates</th>\n",
       "      <th>type</th>\n",
       "    </tr>\n",
       "  </thead>\n",
       "  <tbody>\n",
       "    <tr>\n",
       "      <th>0</th>\n",
       "      <td>7537</td>\n",
       "      <td>Охранная (объединенная охранная) зона № 246</td>\n",
       "      <td>19657446</td>\n",
       "      <td>{\"coordinates\":[37.6829129971731,55.7449717020...</td>\n",
       "      <td>[37.6829129971731, 55.744971702052]</td>\n",
       "      <td>Point</td>\n",
       "    </tr>\n",
       "    <tr>\n",
       "      <th>1</th>\n",
       "      <td>7538</td>\n",
       "      <td>Охранная (объединенная охранная) зона</td>\n",
       "      <td>19657447</td>\n",
       "      <td>{\"coordinates\":[37.691525940131,55.73239338502...</td>\n",
       "      <td>[37.691525940131, 55.7323933850285]</td>\n",
       "      <td>Point</td>\n",
       "    </tr>\n",
       "    <tr>\n",
       "      <th>2</th>\n",
       "      <td>7539</td>\n",
       "      <td>Охранная (объединенная охранная) зона</td>\n",
       "      <td>19657448</td>\n",
       "      <td>{\"coordinates\":[37.6783533222778,55.7328870382...</td>\n",
       "      <td>[37.6783533222778, 55.732887038279]</td>\n",
       "      <td>Point</td>\n",
       "    </tr>\n",
       "    <tr>\n",
       "      <th>3</th>\n",
       "      <td>7540</td>\n",
       "      <td>Охранная (объединенная охранная) зона</td>\n",
       "      <td>19657449</td>\n",
       "      <td>{\"coordinates\":[37.5631385343507,55.7203998495...</td>\n",
       "      <td>[37.5631385343507, 55.720399849599]</td>\n",
       "      <td>Point</td>\n",
       "    </tr>\n",
       "    <tr>\n",
       "      <th>4</th>\n",
       "      <td>7541</td>\n",
       "      <td>Охранная (объединенная охранная) зона</td>\n",
       "      <td>19657450</td>\n",
       "      <td>{\"coordinates\":[37.4734141045037,55.7668006517...</td>\n",
       "      <td>[37.4734141045037, 55.7668006517935]</td>\n",
       "      <td>Point</td>\n",
       "    </tr>\n",
       "    <tr>\n",
       "      <th>...</th>\n",
       "      <td>...</td>\n",
       "      <td>...</td>\n",
       "      <td>...</td>\n",
       "      <td>...</td>\n",
       "      <td>...</td>\n",
       "      <td>...</td>\n",
       "    </tr>\n",
       "    <tr>\n",
       "      <th>511</th>\n",
       "      <td>15685</td>\n",
       "      <td>Охранная зона объекта культурного наследия фед...</td>\n",
       "      <td>19657957</td>\n",
       "      <td>{\"coordinates\":[37.5674474887655,55.7332135163...</td>\n",
       "      <td>[37.5674474887655, 55.7332135163875]</td>\n",
       "      <td>Point</td>\n",
       "    </tr>\n",
       "    <tr>\n",
       "      <th>512</th>\n",
       "      <td>16324</td>\n",
       "      <td>Зона регулирования застройки и хозяйственной д...</td>\n",
       "      <td>19657958</td>\n",
       "      <td>{\"coordinates\":[37.6286765715031,55.7654513933...</td>\n",
       "      <td>[37.6286765715031, 55.7654513933635]</td>\n",
       "      <td>Point</td>\n",
       "    </tr>\n",
       "    <tr>\n",
       "      <th>513</th>\n",
       "      <td>16338</td>\n",
       "      <td>охранная зона объекта культурного наследия фед...</td>\n",
       "      <td>19657959</td>\n",
       "      <td>{\"coordinates\":[37.785402333162,55.78127890215...</td>\n",
       "      <td>[37.785402333162, 55.7812789021545]</td>\n",
       "      <td>Point</td>\n",
       "    </tr>\n",
       "    <tr>\n",
       "      <th>514</th>\n",
       "      <td>16641</td>\n",
       "      <td>Охранная зона объекта культурного значения \"Це...</td>\n",
       "      <td>19657960</td>\n",
       "      <td>{\"coordinates\":[37.8129044286215,55.7584223166...</td>\n",
       "      <td>[37.8129044286215, 55.7584223166165]</td>\n",
       "      <td>Point</td>\n",
       "    </tr>\n",
       "    <tr>\n",
       "      <th>515</th>\n",
       "      <td>16979</td>\n",
       "      <td>охранная зона окн фед. значения \"Два дома: дом...</td>\n",
       "      <td>19657961</td>\n",
       "      <td>{\"coordinates\":[37.5868214139358,55.7648915247...</td>\n",
       "      <td>[37.5868214139358, 55.764891524702]</td>\n",
       "      <td>Point</td>\n",
       "    </tr>\n",
       "  </tbody>\n",
       "</table>\n",
       "<p>516 rows × 6 columns</p>\n",
       "</div>"
      ],
      "text/plain": [
       "        ID                                    ObjectNameOnDoc  global_id  \\\n",
       "0     7537        Охранная (объединенная охранная) зона № 246   19657446   \n",
       "1     7538              Охранная (объединенная охранная) зона   19657447   \n",
       "2     7539              Охранная (объединенная охранная) зона   19657448   \n",
       "3     7540              Охранная (объединенная охранная) зона   19657449   \n",
       "4     7541              Охранная (объединенная охранная) зона   19657450   \n",
       "..     ...                                                ...        ...   \n",
       "511  15685  Охранная зона объекта культурного наследия фед...   19657957   \n",
       "512  16324  Зона регулирования застройки и хозяйственной д...   19657958   \n",
       "513  16338  охранная зона объекта культурного наследия фед...   19657959   \n",
       "514  16641  Охранная зона объекта культурного значения \"Це...   19657960   \n",
       "515  16979  охранная зона окн фед. значения \"Два дома: дом...   19657961   \n",
       "\n",
       "                                        geodata_center  \\\n",
       "0    {\"coordinates\":[37.6829129971731,55.7449717020...   \n",
       "1    {\"coordinates\":[37.691525940131,55.73239338502...   \n",
       "2    {\"coordinates\":[37.6783533222778,55.7328870382...   \n",
       "3    {\"coordinates\":[37.5631385343507,55.7203998495...   \n",
       "4    {\"coordinates\":[37.4734141045037,55.7668006517...   \n",
       "..                                                 ...   \n",
       "511  {\"coordinates\":[37.5674474887655,55.7332135163...   \n",
       "512  {\"coordinates\":[37.6286765715031,55.7654513933...   \n",
       "513  {\"coordinates\":[37.785402333162,55.78127890215...   \n",
       "514  {\"coordinates\":[37.8129044286215,55.7584223166...   \n",
       "515  {\"coordinates\":[37.5868214139358,55.7648915247...   \n",
       "\n",
       "                              coordinates   type  \n",
       "0     [37.6829129971731, 55.744971702052]  Point  \n",
       "1     [37.691525940131, 55.7323933850285]  Point  \n",
       "2     [37.6783533222778, 55.732887038279]  Point  \n",
       "3     [37.5631385343507, 55.720399849599]  Point  \n",
       "4    [37.4734141045037, 55.7668006517935]  Point  \n",
       "..                                    ...    ...  \n",
       "511  [37.5674474887655, 55.7332135163875]  Point  \n",
       "512  [37.6286765715031, 55.7654513933635]  Point  \n",
       "513   [37.785402333162, 55.7812789021545]  Point  \n",
       "514  [37.8129044286215, 55.7584223166165]  Point  \n",
       "515   [37.5868214139358, 55.764891524702]  Point  \n",
       "\n",
       "[516 rows x 6 columns]"
      ]
     },
     "execution_count": 61,
     "metadata": {},
     "output_type": "execute_result"
    }
   ],
   "source": [
    "df_culture"
   ]
  },
  {
   "cell_type": "code",
   "execution_count": 62,
   "id": "a4ad2864",
   "metadata": {},
   "outputs": [
    {
     "data": {
      "text/plain": [
       "'{\"coordinates\":[37.6829129971731,55.744971702052],\"type\":\"Point\"}'"
      ]
     },
     "execution_count": 62,
     "metadata": {},
     "output_type": "execute_result"
    }
   ],
   "source": [
    "df_culture['geodata_center'][0]"
   ]
  },
  {
   "cell_type": "code",
   "execution_count": 63,
   "id": "55895c10",
   "metadata": {},
   "outputs": [],
   "source": [
    "import json"
   ]
  },
  {
   "cell_type": "code",
   "execution_count": 64,
   "id": "75cabbc5",
   "metadata": {},
   "outputs": [
    {
     "data": {
      "text/plain": [
       "'Point'"
      ]
     },
     "execution_count": 64,
     "metadata": {},
     "output_type": "execute_result"
    }
   ],
   "source": [
    "json.loads(df_culture['geodata_center'][0])['type']"
   ]
  },
  {
   "cell_type": "code",
   "execution_count": 65,
   "id": "a1001867",
   "metadata": {},
   "outputs": [],
   "source": [
    "df_culture[['coordinates', 'type']] = df_culture.apply(coords, axis=1, result_type='expand')"
   ]
  },
  {
   "cell_type": "code",
   "execution_count": 66,
   "id": "6dde8b9c",
   "metadata": {},
   "outputs": [
    {
     "data": {
      "text/html": [
       "<div>\n",
       "<style scoped>\n",
       "    .dataframe tbody tr th:only-of-type {\n",
       "        vertical-align: middle;\n",
       "    }\n",
       "\n",
       "    .dataframe tbody tr th {\n",
       "        vertical-align: top;\n",
       "    }\n",
       "\n",
       "    .dataframe thead th {\n",
       "        text-align: right;\n",
       "    }\n",
       "</style>\n",
       "<table border=\"1\" class=\"dataframe\">\n",
       "  <thead>\n",
       "    <tr style=\"text-align: right;\">\n",
       "      <th></th>\n",
       "      <th>ID</th>\n",
       "      <th>ObjectNameOnDoc</th>\n",
       "      <th>global_id</th>\n",
       "      <th>geodata_center</th>\n",
       "      <th>coordinates</th>\n",
       "      <th>type</th>\n",
       "    </tr>\n",
       "  </thead>\n",
       "  <tbody>\n",
       "    <tr>\n",
       "      <th>0</th>\n",
       "      <td>7537</td>\n",
       "      <td>Охранная (объединенная охранная) зона № 246</td>\n",
       "      <td>19657446</td>\n",
       "      <td>{\"coordinates\":[37.6829129971731,55.7449717020...</td>\n",
       "      <td>[37.6829129971731, 55.744971702052]</td>\n",
       "      <td>Point</td>\n",
       "    </tr>\n",
       "    <tr>\n",
       "      <th>1</th>\n",
       "      <td>7538</td>\n",
       "      <td>Охранная (объединенная охранная) зона</td>\n",
       "      <td>19657447</td>\n",
       "      <td>{\"coordinates\":[37.691525940131,55.73239338502...</td>\n",
       "      <td>[37.691525940131, 55.7323933850285]</td>\n",
       "      <td>Point</td>\n",
       "    </tr>\n",
       "  </tbody>\n",
       "</table>\n",
       "</div>"
      ],
      "text/plain": [
       "     ID                              ObjectNameOnDoc  global_id  \\\n",
       "0  7537  Охранная (объединенная охранная) зона № 246   19657446   \n",
       "1  7538        Охранная (объединенная охранная) зона   19657447   \n",
       "\n",
       "                                      geodata_center  \\\n",
       "0  {\"coordinates\":[37.6829129971731,55.7449717020...   \n",
       "1  {\"coordinates\":[37.691525940131,55.73239338502...   \n",
       "\n",
       "                           coordinates   type  \n",
       "0  [37.6829129971731, 55.744971702052]  Point  \n",
       "1  [37.691525940131, 55.7323933850285]  Point  "
      ]
     },
     "execution_count": 66,
     "metadata": {},
     "output_type": "execute_result"
    }
   ],
   "source": [
    "df_culture.head(2)"
   ]
  },
  {
   "cell_type": "markdown",
   "id": "f98dff34",
   "metadata": {},
   "source": [
    "## Загрузим клиники"
   ]
  },
  {
   "cell_type": "code",
   "execution_count": 39,
   "id": "6c1d07a9",
   "metadata": {},
   "outputs": [
    {
     "name": "stderr",
     "output_type": "stream",
     "text": [
      "/Users/iliakhokhlov/miniforge3/lib/python3.9/site-packages/openpyxl/styles/stylesheet.py:226: UserWarning: Workbook contains no default style, apply openpyxl's default\n",
      "  warn(\"Workbook contains no default style, apply openpyxl's default\")\n"
     ]
    }
   ],
   "source": [
    "pd.read_excel('./data_mos_ru/child_clinic.xlsx').to_csv('./data_mos_ru/child_clinic.csv', index=False)\n",
    "pd.read_excel('./data_mos_ru/adult_clinic.xlsx').to_csv('./data_mos_ru/adult_clinic.csv', index=False)"
   ]
  },
  {
   "cell_type": "code",
   "execution_count": 94,
   "id": "3da72aa2",
   "metadata": {},
   "outputs": [
    {
     "name": "stdout",
     "output_type": "stream",
     "text": [
      "Процент потерь координат по взрослым клинникам: 36.594202898550726\n",
      "Процент потерь координат по детским клинникам: 72.11538461538461\n"
     ]
    }
   ],
   "source": [
    "df_adult = pd.read_csv('./data_mos_ru/adult_clinic.csv')\n",
    "df_child = pd.read_csv('./data_mos_ru/child_clinic.csv')\n",
    "\n",
    "print('Процент потерь координат по взрослым клинникам:', \n",
    "      df_adult[df_adult['geodata_center'].isna()].shape[0]/df_adult.shape[0] * 100)\n",
    "\n",
    "print('Процент потерь координат по детским клинникам:', \n",
    "      df_child[df_child['geodata_center'].isna()].shape[0]/df_child.shape[0] * 100)"
   ]
  },
  {
   "cell_type": "code",
   "execution_count": 112,
   "id": "a82a06b7",
   "metadata": {},
   "outputs": [],
   "source": [
    "import json\n",
    "def coords(row):\n",
    "    data = row['geodata_center']\n",
    "    lat = json.loads(data)['coordinates'][0]\n",
    "    long = json.loads(data)['coordinates'][1]\n",
    "    return long, lat"
   ]
  },
  {
   "cell_type": "code",
   "execution_count": 97,
   "id": "289dbbc1",
   "metadata": {},
   "outputs": [
    {
     "data": {
      "text/plain": [
       "37.653086720526"
      ]
     },
     "execution_count": 97,
     "metadata": {},
     "output_type": "execute_result"
    }
   ],
   "source": [
    "json.loads(df_adult.geodata_center[0])['coordinates'][0]"
   ]
  },
  {
   "cell_type": "code",
   "execution_count": 98,
   "id": "bad1815a",
   "metadata": {},
   "outputs": [
    {
     "data": {
      "text/plain": [
       "(37.653086720526, 55.724858139317)"
      ]
     },
     "execution_count": 98,
     "metadata": {},
     "output_type": "execute_result"
    }
   ],
   "source": [
    "coords(df_adult.iloc[0])"
   ]
  },
  {
   "cell_type": "code",
   "execution_count": 99,
   "id": "4b3ba81d",
   "metadata": {},
   "outputs": [
    {
     "name": "stdout",
     "output_type": "stream",
     "text": [
      "\n"
     ]
    }
   ],
   "source": [
    "df_adult.dropna(subset=['geodata_center'], inplace=True)\n",
    "df_child.dropna(subset=['geodata_center'], inplace=True)\n",
    "\n",
    "print()"
   ]
  },
  {
   "cell_type": "code",
   "execution_count": 113,
   "id": "74025b74",
   "metadata": {},
   "outputs": [],
   "source": [
    "df_adult[['longitude', 'latitude']] = df_adult.apply(coords, axis=1, result_type='expand')"
   ]
  },
  {
   "cell_type": "code",
   "execution_count": 114,
   "id": "21389320",
   "metadata": {},
   "outputs": [],
   "source": [
    "df_child[['longitude', 'latitude']] = df_child.apply(coords, axis=1, result_type='expand')"
   ]
  },
  {
   "cell_type": "code",
   "execution_count": 115,
   "id": "4a84b8cc",
   "metadata": {},
   "outputs": [],
   "source": [
    "gdf_adult = gpd.GeoDataFrame(\n",
    "    df_adult, geometry=gpd.points_from_xy(df_adult.latitude, df_adult.longitude))"
   ]
  },
  {
   "cell_type": "code",
   "execution_count": 116,
   "id": "4d64e6df",
   "metadata": {},
   "outputs": [],
   "source": [
    "gdf_child = gpd.GeoDataFrame(\n",
    "    df_child, geometry=gpd.points_from_xy(df_child.latitude, df_child.longitude))"
   ]
  },
  {
   "cell_type": "code",
   "execution_count": 128,
   "id": "89057a72",
   "metadata": {},
   "outputs": [
    {
     "data": {
      "image/png": "[encoded data removed]",
      "text/plain": [
       "<Figure size 1224x1224 with 1 Axes>"
      ]
     },
     "metadata": {
      "needs_background": "light"
     },
     "output_type": "display_data"
    }
   ],
   "source": [
    "#ax = shp_admzones.cx[36.5:38.5, 55:56.5].plot(figsize=(17,17), alpha=0.5)\n",
    "ax = pd.merge(\n",
    "    shp_admzones,\n",
    "    df_sector_rel[['cell_zid', 'adm_zid']],\n",
    "    how=\"inner\",\n",
    "    on='adm_zid',\n",
    "    sort=False,\n",
    "    suffixes=(\"_x\", \"_y\"),\n",
    "    copy=True,\n",
    "    indicator=False,\n",
    "    validate=None,\n",
    ").plot(figsize=(17,17), alpha=0.01)\n",
    "\n",
    "gdf_adult.plot(color='red', ax=ax)\n",
    "gdf_child.plot(color='green', ax=ax)\n",
    "\n",
    "plt.show()"
   ]
  },
  {
   "cell_type": "code",
   "execution_count": null,
   "id": "80ef987d",
   "metadata": {},
   "outputs": [],
   "source": []
  }
 ],
 "metadata": {
  "kernelspec": {
   "display_name": "Python 3 (ipykernel)",
   "language": "python",
   "name": "python3"
  },
  "language_info": {
   "codemirror_mode": {
    "name": "ipython",
    "version": 3
   },
   "file_extension": ".py",
   "mimetype": "text/x-python",
   "name": "python",
   "nbconvert_exporter": "python",
   "pygments_lexer": "ipython3",
   "version": "3.9.7"
  },
  "toc": {
   "base_numbering": 1,
   "nav_menu": {},
   "number_sections": true,
   "sideBar": true,
   "skip_h1_title": false,
   "title_cell": "Table of Contents",
   "title_sidebar": "Contents",
   "toc_cell": false,
   "toc_position": {
    "height": "calc(100% - 180px)",
    "left": "10px",
    "top": "150px",
    "width": "288px"
   },
   "toc_section_display": true,
   "toc_window_display": true
  }
 },
 "nbformat": 4,
 "nbformat_minor": 5
}
